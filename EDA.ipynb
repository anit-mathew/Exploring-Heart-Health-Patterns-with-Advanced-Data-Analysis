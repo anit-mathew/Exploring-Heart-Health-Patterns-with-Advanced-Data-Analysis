{
 "cells": [
  {
   "cell_type": "code",
   "execution_count": null,
   "metadata": {},
   "outputs": [],
   "source": [
    "# Import necessary libraries\n",
    "import pandas as pd\n",
    "import matplotlib.pyplot as plt\n",
    "import seaborn as sns\n"
   ]
  },
  {
   "cell_type": "code",
   "execution_count": null,
   "metadata": {},
   "outputs": [],
   "source": [
    "# Load the dataset from CSV\n",
    "df = pd.read_csv(\"heart_data.csv\")\n",
    "\n",
    "# Display basic statistics\n",
    "print(df.head())\n",
    "\n"
   ]
  },
  {
   "cell_type": "code",
   "execution_count": null,
   "metadata": {},
   "outputs": [],
   "source": [
    "# EDA for high blood pressure (rest_bp) and high cholesterol (cholesterol) for heart attack categories 0 and 1\n",
    "plt.figure(figsize=(12, 8))"
   ]
  },
  {
   "cell_type": "code",
   "execution_count": null,
   "metadata": {},
   "outputs": [],
   "source": [
    "# High Blood Pressure (rest_bp)\n",
    "plt.subplot(2, 2, 1)\n",
    "sns.histplot(data=df, x='rest_bp', hue='diagnosis', kde=True, bins=20)\n",
    "plt.title('Distribution of Resting Blood Pressure (rest_bp) for Heart Attack Categories 0 and 1')"
   ]
  },
  {
   "cell_type": "code",
   "execution_count": null,
   "metadata": {},
   "outputs": [],
   "source": [
    "# High Cholesterol (cholesterol)\n",
    "plt.subplot(2, 2, 2)\n",
    "sns.histplot(data=df, x='cholesterol', hue='diagnosis', kde=True, bins=20)\n",
    "plt.title('Distribution of Cholesterol Levels for Heart Attack Categories 0 and 1')"
   ]
  },
  {
   "cell_type": "code",
   "execution_count": null,
   "metadata": {},
   "outputs": [],
   "source": [
    "# Boxplot for High Blood Pressure (rest_bp)\n",
    "plt.subplot(2, 2, 3)\n",
    "sns.boxplot(data=df, x='diagnosis', y='rest_bp')\n",
    "plt.title('Boxplot of Resting Blood Pressure (rest_bp) for Heart Attack Categories 0 and 1')"
   ]
  },
  {
   "cell_type": "code",
   "execution_count": null,
   "metadata": {},
   "outputs": [],
   "source": [
    "# Boxplot for High Cholesterol (cholesterol)\n",
    "plt.subplot(2, 2, 4)\n",
    "sns.boxplot(data=df, x='diagnosis', y='cholesterol')\n",
    "plt.title('Boxplot of Cholesterol Levels for Heart Attack Categories 0 and 1')\n",
    "plt.tight_layout()\n",
    "plt.show()"
   ]
  },
  {
   "cell_type": "code",
   "execution_count": null,
   "metadata": {},
   "outputs": [],
   "source": [
    "# Correlation matrix\n",
    "correlation_matrix = df.corr()\n",
    "plt.figure(figsize=(12, 8))\n",
    "sns.heatmap(correlation_matrix, annot=True, cmap='coolwarm', fmt=\".2f\")\n",
    "plt.title('Correlation Matrix')\n",
    "plt.show()"
   ]
  },
  {
   "cell_type": "code",
   "execution_count": null,
   "metadata": {},
   "outputs": [],
   "source": [
    "# Countplot for categorical variables\n",
    "categorical_columns = ['chest_pain', 'thalassemia', 'fasting_bs', 'exercise_angina', 'gender', 'st_slope', 'rest_ecg', 'num_vessels']\n",
    "for column in categorical_columns:\n",
    "    plt.figure(figsize=(8, 6))\n",
    "    sns.countplot(x=column, hue='diagnosis', data=df)\n",
    "    plt.title(f'Countplot for {column} vs. Diagnosis')\n",
    "    plt.show()"
   ]
  },
  {
   "cell_type": "code",
   "execution_count": null,
   "metadata": {},
   "outputs": [],
   "source": [
    "# Violin plot for age and max_hr\n",
    "plt.figure(figsize=(12, 6))\n",
    "sns.violinplot(x='diagnosis', y='age', data=df, inner='quartile')\n",
    "plt.title('Violin Plot for Age vs. Diagnosis')\n",
    "plt.show()"
   ]
  }
 ],
 "metadata": {
  "kernelspec": {
   "display_name": "base",
   "language": "python",
   "name": "python3"
  },
  "language_info": {
   "codemirror_mode": {
    "name": "ipython",
    "version": 3
   },
   "file_extension": ".py",
   "mimetype": "text/x-python",
   "name": "python",
   "nbconvert_exporter": "python",
   "pygments_lexer": "ipython3",
   "version": "3.11.4"
  }
 },
 "nbformat": 4,
 "nbformat_minor": 2
}
